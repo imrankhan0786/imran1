{
 "cells": [
  {
   "cell_type": "code",
   "execution_count": 3,
   "metadata": {},
   "outputs": [],
   "source": [
    "import numpy as np \n"
   ]
  },
  {
   "cell_type": "code",
   "execution_count": 4,
   "metadata": {},
   "outputs": [],
   "source": [
    "a1 = [1,2,3,4,5,6,7,8]"
   ]
  },
  {
   "cell_type": "code",
   "execution_count": 5,
   "metadata": {},
   "outputs": [],
   "source": [
    "a = np.array(a1)"
   ]
  },
  {
   "cell_type": "code",
   "execution_count": 6,
   "metadata": {},
   "outputs": [
    {
     "data": {
      "text/plain": [
       "8"
      ]
     },
     "execution_count": 6,
     "metadata": {},
     "output_type": "execute_result"
    }
   ],
   "source": [
    "a.size"
   ]
  },
  {
   "cell_type": "code",
   "execution_count": 7,
   "metadata": {},
   "outputs": [
    {
     "data": {
      "text/plain": [
       "(8,)"
      ]
     },
     "execution_count": 7,
     "metadata": {},
     "output_type": "execute_result"
    }
   ],
   "source": [
    "a.shape"
   ]
  },
  {
   "cell_type": "code",
   "execution_count": 8,
   "metadata": {},
   "outputs": [
    {
     "data": {
      "text/plain": [
       "1"
      ]
     },
     "execution_count": 8,
     "metadata": {},
     "output_type": "execute_result"
    }
   ],
   "source": [
    "a.ndim"
   ]
  },
  {
   "cell_type": "code",
   "execution_count": 9,
   "metadata": {},
   "outputs": [
    {
     "data": {
      "text/plain": [
       "dtype('int32')"
      ]
     },
     "execution_count": 9,
     "metadata": {},
     "output_type": "execute_result"
    }
   ],
   "source": [
    "a.dtype"
   ]
  },
  {
   "cell_type": "code",
   "execution_count": 10,
   "metadata": {},
   "outputs": [
    {
     "data": {
      "text/plain": [
       "array([1, 2, 3, 4, 5, 6, 7, 8])"
      ]
     },
     "execution_count": 10,
     "metadata": {},
     "output_type": "execute_result"
    }
   ],
   "source": [
    "a"
   ]
  },
  {
   "cell_type": "code",
   "execution_count": 11,
   "metadata": {},
   "outputs": [],
   "source": [
    "a1 = np.array(a)"
   ]
  },
  {
   "cell_type": "code",
   "execution_count": 12,
   "metadata": {},
   "outputs": [
    {
     "data": {
      "text/plain": [
       "array([1, 2, 3, 4, 5, 6, 7, 8])"
      ]
     },
     "execution_count": 12,
     "metadata": {},
     "output_type": "execute_result"
    }
   ],
   "source": [
    "a1"
   ]
  },
  {
   "cell_type": "code",
   "execution_count": 13,
   "metadata": {},
   "outputs": [],
   "source": [
    "a = []"
   ]
  },
  {
   "cell_type": "code",
   "execution_count": 14,
   "metadata": {},
   "outputs": [
    {
     "data": {
      "text/plain": [
       "[]"
      ]
     },
     "execution_count": 14,
     "metadata": {},
     "output_type": "execute_result"
    }
   ],
   "source": [
    "a"
   ]
  },
  {
   "cell_type": "code",
   "execution_count": 15,
   "metadata": {},
   "outputs": [],
   "source": [
    "l = [\n",
    "    [1,2,3,4],\n",
    "    [5,6,7,8],\n",
    "    [9,10,11,12],\n",
    "    [13,14,15,16]\n",
    "    \n",
    "    \n",
    "]"
   ]
  },
  {
   "cell_type": "code",
   "execution_count": 16,
   "metadata": {},
   "outputs": [],
   "source": [
    "a = np.array(l)"
   ]
  },
  {
   "cell_type": "code",
   "execution_count": 17,
   "metadata": {},
   "outputs": [
    {
     "data": {
      "text/plain": [
       "array([[ 1,  2,  3,  4],\n",
       "       [ 5,  6,  7,  8],\n",
       "       [ 9, 10, 11, 12],\n",
       "       [13, 14, 15, 16]])"
      ]
     },
     "execution_count": 17,
     "metadata": {},
     "output_type": "execute_result"
    }
   ],
   "source": [
    "a"
   ]
  },
  {
   "cell_type": "code",
   "execution_count": 18,
   "metadata": {},
   "outputs": [
    {
     "data": {
      "text/plain": [
       "array([[ 5,  7],\n",
       "       [13, 15]])"
      ]
     },
     "execution_count": 18,
     "metadata": {},
     "output_type": "execute_result"
    }
   ],
   "source": [
    "a[1::2,[0,2,]]"
   ]
  },
  {
   "cell_type": "code",
   "execution_count": 19,
   "metadata": {},
   "outputs": [
    {
     "data": {
      "text/plain": [
       "array([[ 5,  7,  8],\n",
       "       [13, 15, 16]])"
      ]
     },
     "execution_count": 19,
     "metadata": {},
     "output_type": "execute_result"
    }
   ],
   "source": [
    "a[1::2,[0,2,3]]"
   ]
  },
  {
   "cell_type": "code",
   "execution_count": 20,
   "metadata": {},
   "outputs": [
    {
     "data": {
      "text/plain": [
       "array([[  1,   4,   9,  16],\n",
       "       [ 25,  36,  49,  64],\n",
       "       [ 81, 100, 121, 144],\n",
       "       [169, 196, 225, 256]])"
      ]
     },
     "execution_count": 20,
     "metadata": {},
     "output_type": "execute_result"
    }
   ],
   "source": [
    "a*a\n"
   ]
  },
  {
   "cell_type": "code",
   "execution_count": 21,
   "metadata": {},
   "outputs": [
    {
     "data": {
      "text/plain": [
       "[1, 2, 3, 4, 5, 6, 7, 8, 9]"
      ]
     },
     "execution_count": 21,
     "metadata": {},
     "output_type": "execute_result"
    }
   ],
   "source": [
    "x = [1,2,3,4,5,6,7,8,9]\n",
    "x"
   ]
  },
  {
   "cell_type": "code",
   "execution_count": 22,
   "metadata": {},
   "outputs": [
    {
     "data": {
      "text/plain": [
       "[1, 2, 3]"
      ]
     },
     "execution_count": 22,
     "metadata": {},
     "output_type": "execute_result"
    }
   ],
   "source": [
    "x[0:3]"
   ]
  },
  {
   "cell_type": "code",
   "execution_count": 23,
   "metadata": {},
   "outputs": [
    {
     "data": {
      "text/plain": [
       "[2, 3, 4, 5, 6, 7, 8, 9]"
      ]
     },
     "execution_count": 23,
     "metadata": {},
     "output_type": "execute_result"
    }
   ],
   "source": [
    "x[1:101]"
   ]
  },
  {
   "cell_type": "code",
   "execution_count": 24,
   "metadata": {},
   "outputs": [
    {
     "data": {
      "text/plain": [
       "[1, 3]"
      ]
     },
     "execution_count": 24,
     "metadata": {},
     "output_type": "execute_result"
    }
   ],
   "source": [
    "x[0:4:2]"
   ]
  },
  {
   "cell_type": "code",
   "execution_count": 25,
   "metadata": {},
   "outputs": [
    {
     "data": {
      "text/plain": [
       "[1, 2, 3, 4, 5]"
      ]
     },
     "execution_count": 25,
     "metadata": {},
     "output_type": "execute_result"
    }
   ],
   "source": [
    "x[:5]"
   ]
  },
  {
   "cell_type": "code",
   "execution_count": 26,
   "metadata": {},
   "outputs": [
    {
     "data": {
      "text/plain": [
       "[7, 8, 9]"
      ]
     },
     "execution_count": 26,
     "metadata": {},
     "output_type": "execute_result"
    }
   ],
   "source": [
    "x[6:]"
   ]
  },
  {
   "cell_type": "code",
   "execution_count": 27,
   "metadata": {},
   "outputs": [],
   "source": [
    "l =[ [ \n",
    "       [1,2,3,4],\n",
    "       [3,4,2,7],\n",
    "       [6,3,8,5],\n",
    "       [9,2,7,4]\n",
    "    ],\n",
    "     [\n",
    "       [6,3,3,9],\n",
    "       [5,1,2,8],\n",
    "       [9,4,6,2],\n",
    "       [4,6,8,9]\n",
    "    ],\n",
    "     [ \n",
    "       [6,2,8,2],\n",
    "       [8,3,4,6],\n",
    "       [1,4,7,9],\n",
    "       [4,6,7,2]\n",
    "    ]\n",
    "    \n",
    "    \n",
    "] \n",
    "    "
   ]
  },
  {
   "cell_type": "code",
   "execution_count": 28,
   "metadata": {},
   "outputs": [
    {
     "data": {
      "text/plain": [
       "list"
      ]
     },
     "execution_count": 28,
     "metadata": {},
     "output_type": "execute_result"
    }
   ],
   "source": [
    "type(l)"
   ]
  },
  {
   "cell_type": "code",
   "execution_count": 29,
   "metadata": {},
   "outputs": [],
   "source": [
    "b = np.array(l)"
   ]
  },
  {
   "cell_type": "code",
   "execution_count": 30,
   "metadata": {},
   "outputs": [
    {
     "data": {
      "text/plain": [
       "array([[[1, 2, 3, 4],\n",
       "        [3, 4, 2, 7],\n",
       "        [6, 3, 8, 5],\n",
       "        [9, 2, 7, 4]],\n",
       "\n",
       "       [[6, 3, 3, 9],\n",
       "        [5, 1, 2, 8],\n",
       "        [9, 4, 6, 2],\n",
       "        [4, 6, 8, 9]],\n",
       "\n",
       "       [[6, 2, 8, 2],\n",
       "        [8, 3, 4, 6],\n",
       "        [1, 4, 7, 9],\n",
       "        [4, 6, 7, 2]]])"
      ]
     },
     "execution_count": 30,
     "metadata": {},
     "output_type": "execute_result"
    }
   ],
   "source": [
    "b"
   ]
  },
  {
   "cell_type": "code",
   "execution_count": 31,
   "metadata": {},
   "outputs": [
    {
     "data": {
      "text/plain": [
       "dtype('int32')"
      ]
     },
     "execution_count": 31,
     "metadata": {},
     "output_type": "execute_result"
    }
   ],
   "source": [
    "b.dtype"
   ]
  },
  {
   "cell_type": "code",
   "execution_count": 32,
   "metadata": {},
   "outputs": [],
   "source": [
    "b = np.array(l,dtype=np.float32)"
   ]
  },
  {
   "cell_type": "code",
   "execution_count": 33,
   "metadata": {},
   "outputs": [
    {
     "data": {
      "text/plain": [
       "array([[[1., 2., 3., 4.],\n",
       "        [3., 4., 2., 7.],\n",
       "        [6., 3., 8., 5.],\n",
       "        [9., 2., 7., 4.]],\n",
       "\n",
       "       [[6., 3., 3., 9.],\n",
       "        [5., 1., 2., 8.],\n",
       "        [9., 4., 6., 2.],\n",
       "        [4., 6., 8., 9.]],\n",
       "\n",
       "       [[6., 2., 8., 2.],\n",
       "        [8., 3., 4., 6.],\n",
       "        [1., 4., 7., 9.],\n",
       "        [4., 6., 7., 2.]]], dtype=float32)"
      ]
     },
     "execution_count": 33,
     "metadata": {},
     "output_type": "execute_result"
    }
   ],
   "source": [
    "b"
   ]
  },
  {
   "cell_type": "code",
   "execution_count": 34,
   "metadata": {},
   "outputs": [],
   "source": [
    "b = np.array(l,dtype=np.int32)"
   ]
  },
  {
   "cell_type": "code",
   "execution_count": 35,
   "metadata": {},
   "outputs": [
    {
     "data": {
      "text/plain": [
       "array([[[1, 2, 3, 4],\n",
       "        [3, 4, 2, 7],\n",
       "        [6, 3, 8, 5],\n",
       "        [9, 2, 7, 4]],\n",
       "\n",
       "       [[6, 3, 3, 9],\n",
       "        [5, 1, 2, 8],\n",
       "        [9, 4, 6, 2],\n",
       "        [4, 6, 8, 9]],\n",
       "\n",
       "       [[6, 2, 8, 2],\n",
       "        [8, 3, 4, 6],\n",
       "        [1, 4, 7, 9],\n",
       "        [4, 6, 7, 2]]])"
      ]
     },
     "execution_count": 35,
     "metadata": {},
     "output_type": "execute_result"
    }
   ],
   "source": [
    "b"
   ]
  },
  {
   "cell_type": "code",
   "execution_count": 36,
   "metadata": {},
   "outputs": [
    {
     "data": {
      "text/plain": [
       "48"
      ]
     },
     "execution_count": 36,
     "metadata": {},
     "output_type": "execute_result"
    }
   ],
   "source": [
    "b.size"
   ]
  },
  {
   "cell_type": "code",
   "execution_count": 37,
   "metadata": {},
   "outputs": [
    {
     "data": {
      "text/plain": [
       "(3, 4, 4)"
      ]
     },
     "execution_count": 37,
     "metadata": {},
     "output_type": "execute_result"
    }
   ],
   "source": [
    "b.shape"
   ]
  },
  {
   "cell_type": "code",
   "execution_count": 38,
   "metadata": {},
   "outputs": [
    {
     "data": {
      "text/plain": [
       "array([[[1, 2, 3, 4],\n",
       "        [3, 4, 2, 7]]])"
      ]
     },
     "execution_count": 38,
     "metadata": {},
     "output_type": "execute_result"
    }
   ],
   "source": [
    "b[0:1,[0,1]]"
   ]
  },
  {
   "cell_type": "code",
   "execution_count": 39,
   "metadata": {},
   "outputs": [
    {
     "name": "stdout",
     "output_type": "stream",
     "text": [
      "[[[1 2 3 4]\n",
      "  [3 4 2 7]]]\n"
     ]
    }
   ],
   "source": [
    "print(b[0:1,[0,1]])"
   ]
  },
  {
   "cell_type": "code",
   "execution_count": 40,
   "metadata": {},
   "outputs": [
    {
     "data": {
      "text/plain": [
       "numpy.ndarray"
      ]
     },
     "execution_count": 40,
     "metadata": {},
     "output_type": "execute_result"
    }
   ],
   "source": [
    "type(b)"
   ]
  },
  {
   "cell_type": "code",
   "execution_count": 41,
   "metadata": {},
   "outputs": [
    {
     "data": {
      "text/plain": [
       "array([[[1, 2, 3, 4],\n",
       "        [3, 4, 2, 7],\n",
       "        [6, 3, 8, 5],\n",
       "        [9, 2, 7, 4]],\n",
       "\n",
       "       [[6, 3, 3, 9],\n",
       "        [5, 1, 2, 8],\n",
       "        [9, 4, 6, 2],\n",
       "        [4, 6, 8, 9]],\n",
       "\n",
       "       [[6, 2, 8, 2],\n",
       "        [8, 3, 4, 6],\n",
       "        [1, 4, 7, 9],\n",
       "        [4, 6, 7, 2]]])"
      ]
     },
     "execution_count": 41,
     "metadata": {},
     "output_type": "execute_result"
    }
   ],
   "source": [
    "b"
   ]
  },
  {
   "cell_type": "code",
   "execution_count": 42,
   "metadata": {},
   "outputs": [
    {
     "data": {
      "text/plain": [
       "array([[[1, 2, 3, 4],\n",
       "        [3, 4, 2, 7]],\n",
       "\n",
       "       [[6, 2, 8, 2],\n",
       "        [8, 3, 4, 6]]])"
      ]
     },
     "execution_count": 42,
     "metadata": {},
     "output_type": "execute_result"
    }
   ],
   "source": [
    "b[0:4:2,[0,1]]"
   ]
  },
  {
   "cell_type": "code",
   "execution_count": 46,
   "metadata": {
    "scrolled": true
   },
   "outputs": [
    {
     "data": {
      "text/plain": [
       "array([[[1, 2, 3, 4],\n",
       "        [3, 4, 2, 7],\n",
       "        [6, 3, 8, 5],\n",
       "        [9, 2, 7, 4]],\n",
       "\n",
       "       [[6, 2, 8, 2],\n",
       "        [8, 3, 4, 6],\n",
       "        [1, 4, 7, 9],\n",
       "        [4, 6, 7, 2]]])"
      ]
     },
     "execution_count": 46,
     "metadata": {},
     "output_type": "execute_result"
    }
   ],
   "source": [
    "b[[0,2,]]"
   ]
  },
  {
   "cell_type": "code",
   "execution_count": 47,
   "metadata": {},
   "outputs": [
    {
     "data": {
      "text/plain": [
       "array([[[1, 2, 3, 4],\n",
       "        [3, 4, 2, 7]],\n",
       "\n",
       "       [[6, 3, 3, 9],\n",
       "        [5, 1, 2, 8]],\n",
       "\n",
       "       [[6, 2, 8, 2],\n",
       "        [8, 3, 4, 6]]])"
      ]
     },
     "execution_count": 47,
     "metadata": {},
     "output_type": "execute_result"
    }
   ],
   "source": [
    "b[0:3,[0,1]]"
   ]
  },
  {
   "cell_type": "code",
   "execution_count": 54,
   "metadata": {},
   "outputs": [],
   "source": [
    "b = np.arange(1,100,dtype=int)"
   ]
  },
  {
   "cell_type": "code",
   "execution_count": 55,
   "metadata": {},
   "outputs": [
    {
     "data": {
      "text/plain": [
       "array([ 1,  2,  3,  4,  5,  6,  7,  8,  9, 10, 11, 12, 13, 14, 15, 16, 17,\n",
       "       18, 19, 20, 21, 22, 23, 24, 25, 26, 27, 28, 29, 30, 31, 32, 33, 34,\n",
       "       35, 36, 37, 38, 39, 40, 41, 42, 43, 44, 45, 46, 47, 48, 49, 50, 51,\n",
       "       52, 53, 54, 55, 56, 57, 58, 59, 60, 61, 62, 63, 64, 65, 66, 67, 68,\n",
       "       69, 70, 71, 72, 73, 74, 75, 76, 77, 78, 79, 80, 81, 82, 83, 84, 85,\n",
       "       86, 87, 88, 89, 90, 91, 92, 93, 94, 95, 96, 97, 98, 99])"
      ]
     },
     "execution_count": 55,
     "metadata": {},
     "output_type": "execute_result"
    }
   ],
   "source": [
    "b"
   ]
  },
  {
   "cell_type": "code",
   "execution_count": 60,
   "metadata": {},
   "outputs": [],
   "source": [
    "b = np.arange(-100 , 0 , 5 ,dtype=int)"
   ]
  },
  {
   "cell_type": "code",
   "execution_count": 61,
   "metadata": {},
   "outputs": [
    {
     "data": {
      "text/plain": [
       "array([-100,  -95,  -90,  -85,  -80,  -75,  -70,  -65,  -60,  -55,  -50,\n",
       "        -45,  -40,  -35,  -30,  -25,  -20,  -15,  -10,   -5])"
      ]
     },
     "execution_count": 61,
     "metadata": {},
     "output_type": "execute_result"
    }
   ],
   "source": [
    "\n",
    "\n",
    "b"
   ]
  },
  {
   "cell_type": "code",
   "execution_count": 63,
   "metadata": {},
   "outputs": [
    {
     "data": {
      "text/plain": [
       "numpy.ndarray"
      ]
     },
     "execution_count": 63,
     "metadata": {},
     "output_type": "execute_result"
    }
   ],
   "source": [
    "type(b)"
   ]
  },
  {
   "cell_type": "code",
   "execution_count": 64,
   "metadata": {},
   "outputs": [
    {
     "data": {
      "text/plain": [
       "1"
      ]
     },
     "execution_count": 64,
     "metadata": {},
     "output_type": "execute_result"
    }
   ],
   "source": [
    "b.ndim"
   ]
  },
  {
   "cell_type": "code",
   "execution_count": 65,
   "metadata": {},
   "outputs": [
    {
     "data": {
      "text/plain": [
       "(20,)"
      ]
     },
     "execution_count": 65,
     "metadata": {},
     "output_type": "execute_result"
    }
   ],
   "source": [
    "b.shape"
   ]
  },
  {
   "cell_type": "code",
   "execution_count": 66,
   "metadata": {},
   "outputs": [
    {
     "data": {
      "text/plain": [
       "20"
      ]
     },
     "execution_count": 66,
     "metadata": {},
     "output_type": "execute_result"
    }
   ],
   "source": [
    "b.size"
   ]
  },
  {
   "cell_type": "code",
   "execution_count": 67,
   "metadata": {},
   "outputs": [],
   "source": [
    "b = np.arange(20,200,20)"
   ]
  },
  {
   "cell_type": "code",
   "execution_count": 68,
   "metadata": {},
   "outputs": [
    {
     "data": {
      "text/plain": [
       "array([ 20,  40,  60,  80, 100, 120, 140, 160, 180])"
      ]
     },
     "execution_count": 68,
     "metadata": {},
     "output_type": "execute_result"
    }
   ],
   "source": [
    "b"
   ]
  },
  {
   "cell_type": "code",
   "execution_count": 69,
   "metadata": {},
   "outputs": [],
   "source": [
    "b = np.arange(10,100,10,dtype=float)"
   ]
  },
  {
   "cell_type": "code",
   "execution_count": 70,
   "metadata": {},
   "outputs": [
    {
     "data": {
      "text/plain": [
       "array([10., 20., 30., 40., 50., 60., 70., 80., 90.])"
      ]
     },
     "execution_count": 70,
     "metadata": {},
     "output_type": "execute_result"
    }
   ],
   "source": [
    "b"
   ]
  },
  {
   "cell_type": "code",
   "execution_count": 71,
   "metadata": {},
   "outputs": [],
   "source": [
    "import matplotlib.pyplot as plt\n",
    "%matplotlib inline"
   ]
  },
  {
   "cell_type": "code",
   "execution_count": 76,
   "metadata": {},
   "outputs": [
    {
     "ename": "AttributeError",
     "evalue": "module 'matplotlib.pyplot' has no attribute 'shoe'",
     "output_type": "error",
     "traceback": [
      "\u001b[1;31m---------------------------------------------------------------------------\u001b[0m",
      "\u001b[1;31mAttributeError\u001b[0m                            Traceback (most recent call last)",
      "\u001b[1;32m<ipython-input-76-d83c7a4be56e>\u001b[0m in \u001b[0;36m<module>\u001b[1;34m\u001b[0m\n\u001b[0;32m      1\u001b[0m \u001b[0mplt\u001b[0m\u001b[1;33m.\u001b[0m\u001b[0mhist\u001b[0m\u001b[1;33m(\u001b[0m\u001b[0mb\u001b[0m\u001b[1;33m)\u001b[0m\u001b[1;33m\u001b[0m\u001b[1;33m\u001b[0m\u001b[0m\n\u001b[1;32m----> 2\u001b[1;33m \u001b[0mplt\u001b[0m\u001b[1;33m.\u001b[0m\u001b[0mshoe\u001b[0m\u001b[1;33m\u001b[0m\u001b[1;33m\u001b[0m\u001b[0m\n\u001b[0m",
      "\u001b[1;31mAttributeError\u001b[0m: module 'matplotlib.pyplot' has no attribute 'shoe'"
     ]
    },
    {
     "data": {
      "image/png": "[encoded data removed]",
      "text/plain": [
       "<Figure size 432x288 with 1 Axes>"
      ]
     },
     "metadata": {
      "needs_background": "light"
     },
     "output_type": "display_data"
    }
   ],
   "source": [
    "plt.hist(b)\n",
    "plt.shoe"
   ]
  },
  {
   "cell_type": "code",
   "execution_count": 75,
   "metadata": {},
   "outputs": [],
   "source": [
    "plt.show()"
   ]
  },
  {
   "cell_type": "code",
   "execution_count": 80,
   "metadata": {},
   "outputs": [],
   "source": [
    "d = np.random.random(1000)"
   ]
  },
  {
   "cell_type": "code",
   "execution_count": 81,
   "metadata": {
    "scrolled": false
   },
   "outputs": [
    {
     "data": {
      "text/plain": [
       "array([0.62069635, 0.65048144, 0.82033438, 0.6746149 , 0.37197673,\n",
       "       0.58875013, 0.11286777, 0.06032005, 0.36057292, 0.98958273,\n",
       "       0.57893762, 0.76521806, 0.83679734, 0.22547045, 0.22068977,\n",
       "       0.1425889 , 0.67848857, 0.54665545, 0.10397133, 0.56183971,\n",
       "       0.88072038, 0.19232694, 0.43114119, 0.39336207, 0.15687571,\n",
       "       0.05701199, 0.29786031, 0.0333442 , 0.87679787, 0.21740127,\n",
       "       0.51489483, 0.8527328 , 0.8453696 , 0.74988287, 0.97683279,\n",
       "       0.17480683, 0.29733199, 0.56756032, 0.77415086, 0.36045693,\n",
       "       0.70731466, 0.52498242, 0.24451479, 0.62269134, 0.41600477,\n",
       "       0.44501419, 0.87252753, 0.13837627, 0.20574629, 0.00790547,\n",
       "       0.39417723, 0.04502358, 0.11286782, 0.61222855, 0.11196768,\n",
       "       0.94982695, 0.63057138, 0.78332895, 0.23691112, 0.02066698,\n",
       "       0.46105562, 0.45320297, 0.49925166, 0.49659762, 0.48259186,\n",
       "       0.48858493, 0.09768152, 0.19432466, 0.32757626, 0.71710579,\n",
       "       0.83429126, 0.46202527, 0.05250005, 0.8231962 , 0.34851335,\n",
       "       0.56209942, 0.38349846, 0.93815512, 0.3424529 , 0.75880187,\n",
       "       0.38028127, 0.13750576, 0.24971618, 0.07954241, 0.24640036,\n",
       "       0.94279558, 0.16737403, 0.30422775, 0.3974268 , 0.65258785,\n",
       "       0.12680987, 0.96907948, 0.72020323, 0.16997569, 0.23023793,\n",
       "       0.17102742, 0.45357475, 0.15323904, 0.93086655, 0.70762284,\n",
       "       0.38258917, 0.56204317, 0.17902673, 0.34561481, 0.42193634,\n",
       "       0.42128453, 0.89784893, 0.43526318, 0.01636975, 0.88517528,\n",
       "       0.85878857, 0.85246774, 0.88333794, 0.24252796, 0.02414673,\n",
       "       0.79382468, 0.00300463, 0.07606432, 0.25026244, 0.41148466,\n",
       "       0.03248423, 0.30772212, 0.75676212, 0.20137811, 0.05268301,\n",
       "       0.14666712, 0.58042884, 0.78152656, 0.10637163, 0.95108531,\n",
       "       0.08009708, 0.16412701, 0.36796834, 0.83691802, 0.11002023,\n",
       "       0.55039504, 0.15944895, 0.95674964, 0.73327902, 0.81734224,\n",
       "       0.58662268, 0.2597844 , 0.81068135, 0.04425665, 0.86677962,\n",
       "       0.87022564, 0.88987145, 0.36410154, 0.7894222 , 0.59380489,\n",
       "       0.02772131, 0.19550005, 0.1470505 , 0.09360314, 0.14043851,\n",
       "       0.85328338, 0.54209846, 0.43572215, 0.7986396 , 0.8121299 ,\n",
       "       0.45432167, 0.91099914, 0.53829329, 0.50440195, 0.69775536,\n",
       "       0.93940236, 0.72692412, 0.95567525, 0.84731362, 0.85994871,\n",
       "       0.41576192, 0.90275261, 0.79314021, 0.90647376, 0.54800355,\n",
       "       0.02945   , 0.67915861, 0.69272214, 0.09043267, 0.1409452 ,\n",
       "       0.2201564 , 0.8034396 , 0.22197933, 0.95626979, 0.1648376 ,\n",
       "       0.13690916, 0.65722291, 0.05271869, 0.2215134 , 0.70073654,\n",
       "       0.76114653, 0.72355694, 0.62351798, 0.84799746, 0.01321433,\n",
       "       0.81715306, 0.38253746, 0.60212066, 0.76893829, 0.64293469,\n",
       "       0.14088111, 0.40319114, 0.37823338, 0.15267456, 0.22608084,\n",
       "       0.9964    , 0.99402728, 0.2742918 , 0.36531064, 0.10189543,\n",
       "       0.4214053 , 0.13801956, 0.44153465, 0.09753274, 0.94996906,\n",
       "       0.43999116, 0.46736757, 0.8574494 , 0.48128847, 0.50886098,\n",
       "       0.15025577, 0.27701829, 0.24245311, 0.95577334, 0.12512466,\n",
       "       0.23087812, 0.45464206, 0.22295035, 0.39626386, 0.8027258 ,\n",
       "       0.20124711, 0.31387506, 0.50889346, 0.43412304, 0.18821126,\n",
       "       0.99741195, 0.50990621, 0.36375972, 0.06615966, 0.59602897,\n",
       "       0.94720924, 0.20268654, 0.17843571, 0.37583473, 0.17661897,\n",
       "       0.44986442, 0.98176846, 0.14896723, 0.77676694, 0.10851588,\n",
       "       0.61950787, 0.8794474 , 0.62448455, 0.9311363 , 0.14833608,\n",
       "       0.93868424, 0.31180002, 0.14908117, 0.79250564, 0.62029133,\n",
       "       0.73249398, 0.20603063, 0.28923095, 0.59666534, 0.10798465,\n",
       "       0.39926205, 0.22373079, 0.43092647, 0.26354925, 0.38612065,\n",
       "       0.80733005, 0.99300736, 0.79269854, 0.27515987, 0.12209046,\n",
       "       0.37002169, 0.01372478, 0.92546514, 0.58146575, 0.92339012,\n",
       "       0.42603425, 0.63385566, 0.95386236, 0.61581194, 0.34033624,\n",
       "       0.52941003, 0.91369541, 0.34056822, 0.5166737 , 0.5106347 ,\n",
       "       0.10600223, 0.80517307, 0.45978514, 0.02427546, 0.63963767,\n",
       "       0.98761897, 0.12396811, 0.30673273, 0.97997248, 0.78390684,\n",
       "       0.31173246, 0.53227747, 0.95324925, 0.90123247, 0.96980839,\n",
       "       0.8708117 , 0.45240165, 0.8162449 , 0.11108215, 0.32990189,\n",
       "       0.4003344 , 0.73768273, 0.5958965 , 0.31968352, 0.80572838,\n",
       "       0.61114391, 0.35665891, 0.1865346 , 0.33030383, 0.67047272,\n",
       "       0.62309251, 0.51109617, 0.61565185, 0.86455159, 0.7315683 ,\n",
       "       0.44536483, 0.08409348, 0.5888497 , 0.77421944, 0.58019772,\n",
       "       0.68530987, 0.82822742, 0.46249225, 0.85525961, 0.69560156,\n",
       "       0.02535795, 0.37268791, 0.92551473, 0.64666437, 0.75033188,\n",
       "       0.61319872, 0.43613961, 0.38597016, 0.23325983, 0.39675067,\n",
       "       0.3332653 , 0.19637425, 0.21962818, 0.20415991, 0.25933182,\n",
       "       0.8500577 , 0.88622751, 0.45143985, 0.55722012, 0.99417082,\n",
       "       0.96860883, 0.36725971, 0.13108249, 0.02274423, 0.91248148,\n",
       "       0.40411753, 0.08933761, 0.53310566, 0.25689954, 0.5535559 ,\n",
       "       0.59192058, 0.6923731 , 0.43374567, 0.42739953, 0.81970061,\n",
       "       0.37460068, 0.97721849, 0.0233798 , 0.33093644, 0.27339867,\n",
       "       0.74824573, 0.50289219, 0.31487436, 0.81841215, 0.12194724,\n",
       "       0.51435809, 0.1013795 , 0.50428062, 0.59815178, 0.21229289,\n",
       "       0.23203839, 0.37897416, 0.94342249, 0.4154149 , 0.47976351,\n",
       "       0.57428947, 0.2823849 , 0.44964462, 0.79124082, 0.67493591,\n",
       "       0.72560662, 0.36425334, 0.91800911, 0.92997352, 0.07483069,\n",
       "       0.16175824, 0.57229674, 0.64662744, 0.96843063, 0.22627148,\n",
       "       0.40033621, 0.15824694, 0.27261661, 0.79504856, 0.62559858,\n",
       "       0.92073831, 0.10752664, 0.37394623, 0.46656798, 0.68565269,\n",
       "       0.37993626, 0.98209676, 0.99138008, 0.80295641, 0.44585415,\n",
       "       0.66002029, 0.19683907, 0.17493458, 0.11337683, 0.14786219,\n",
       "       0.27905598, 0.3507736 , 0.696796  , 0.80255594, 0.82175127,\n",
       "       0.95509593, 0.72539213, 0.93017495, 0.35499875, 0.12202689,\n",
       "       0.39193805, 0.42588781, 0.09647661, 0.52146917, 0.8442116 ,\n",
       "       0.00705225, 0.80293573, 0.5254055 , 0.28593903, 0.74463741,\n",
       "       0.46855095, 0.05567043, 0.40489122, 0.6130621 , 0.406366  ,\n",
       "       0.6353971 , 0.73111299, 0.49478114, 0.0367788 , 0.0258834 ,\n",
       "       0.46964995, 0.17264938, 0.09576377, 0.73044324, 0.97875491,\n",
       "       0.65988561, 0.0675951 , 0.79351195, 0.72105766, 0.07627267,\n",
       "       0.12874503, 0.13511801, 0.21580263, 0.25400743, 0.40621749,\n",
       "       0.13093688, 0.17163937, 0.51058261, 0.17263351, 0.35751918,\n",
       "       0.88567054, 0.80220524, 0.12543657, 0.334846  , 0.7040144 ,\n",
       "       0.22434597, 0.23094036, 0.16892973, 0.39963805, 0.34128152,\n",
       "       0.12917267, 0.74073983, 0.26889516, 0.11709488, 0.38560963,\n",
       "       0.81840559, 0.34753544, 0.64855133, 0.96189676, 0.30195192,\n",
       "       0.67143879, 0.20902082, 0.26262692, 0.45553245, 0.20983067,\n",
       "       0.89546572, 0.80579076, 0.96030718, 0.46811891, 0.54476538,\n",
       "       0.11668612, 0.09933602, 0.30183075, 0.16658053, 0.1770744 ,\n",
       "       0.26982249, 0.08142777, 0.71593525, 0.35842428, 0.17776854,\n",
       "       0.38826284, 0.33613191, 0.21743914, 0.21226996, 0.95389373,\n",
       "       0.92594593, 0.335019  , 0.43935573, 0.12064227, 0.98162812,\n",
       "       0.93441575, 0.71080145, 0.52217949, 0.50235687, 0.37396598,\n",
       "       0.52062475, 0.85326177, 0.33223236, 0.17624304, 0.20318522,\n",
       "       0.22684994, 0.20105757, 0.4125177 , 0.12793795, 0.95153412,\n",
       "       0.24891103, 0.08041269, 0.33567566, 0.05510961, 0.58440731,\n",
       "       0.77238434, 0.75667471, 0.04911734, 0.31375961, 0.08821997,\n",
       "       0.23457183, 0.15529409, 0.73161975, 0.96542822, 0.08147689,\n",
       "       0.92209518, 0.28873514, 0.84023385, 0.58100368, 0.35275871,\n",
       "       0.8290744 , 0.07500523, 0.47377893, 0.05277322, 0.44277379,\n",
       "       0.36853441, 0.4876179 , 0.12233719, 0.26047591, 0.68074169,\n",
       "       0.72514714, 0.58438171, 0.12581208, 0.10062188, 0.3119996 ,\n",
       "       0.43937952, 0.31453929, 0.85694827, 0.17748015, 0.13427605,\n",
       "       0.80614928, 0.95600778, 0.59602354, 0.6215491 , 0.72480449,\n",
       "       0.42301288, 0.58647506, 0.70199353, 0.52611385, 0.77492073,\n",
       "       0.96174484, 0.04122471, 0.85107241, 0.07513952, 0.08541525,\n",
       "       0.93820539, 0.63978465, 0.07020401, 0.87769227, 0.72242893,\n",
       "       0.20744809, 0.94634765, 0.46067077, 0.66490851, 0.2469199 ,\n",
       "       0.63178163, 0.51964324, 0.66133383, 0.68805818, 0.32730964,\n",
       "       0.47684465, 0.46997066, 0.7461787 , 0.83322071, 0.47548639,\n",
       "       0.87953363, 0.93441767, 0.58613533, 0.96189675, 0.47594585,\n",
       "       0.61059815, 0.68093678, 0.21682477, 0.64023044, 0.48765004,\n",
       "       0.63434051, 0.07806304, 0.41038307, 0.0270003 , 0.53833422,\n",
       "       0.32912045, 0.3928768 , 0.94686203, 0.30866666, 0.34332484,\n",
       "       0.01166014, 0.31486319, 0.66272365, 0.79537612, 0.10958465,\n",
       "       0.37404274, 0.82405125, 0.16599993, 0.02595799, 0.61810311,\n",
       "       0.20134271, 0.33619299, 0.89442177, 0.99552096, 0.37129444,\n",
       "       0.86340194, 0.8376326 , 0.19247437, 0.7857192 , 0.30507531,\n",
       "       0.05262272, 0.5880627 , 0.13864775, 0.01367104, 0.32923752,\n",
       "       0.96982473, 0.26278018, 0.02616805, 0.44192156, 0.61505222,\n",
       "       0.10283762, 0.05547775, 0.64353623, 0.01325744, 0.11763655,\n",
       "       0.98944206, 0.47847447, 0.25822823, 0.23612765, 0.91390813,\n",
       "       0.10192071, 0.60499147, 0.09132968, 0.6363414 , 0.12337317,\n",
       "       0.89971061, 0.51317512, 0.12188274, 0.5203689 , 0.83354297,\n",
       "       0.75529006, 0.39361319, 0.2177835 , 0.10356142, 0.5066549 ,\n",
       "       0.70835469, 0.41350569, 0.46058917, 0.40015494, 0.36370943,\n",
       "       0.10348576, 0.44507896, 0.67266817, 0.4095975 , 0.59763541,\n",
       "       0.0838483 , 0.40783471, 0.79452492, 0.03782166, 0.79524246,\n",
       "       0.23233686, 0.89583503, 0.16147222, 0.6118979 , 0.21812674,\n",
       "       0.88251104, 0.42414859, 0.0698556 , 0.24058393, 0.57869856,\n",
       "       0.09217679, 0.42234667, 0.89156184, 0.51204672, 0.3129012 ,\n",
       "       0.91545705, 0.8215003 , 0.95041843, 0.72328213, 0.26202159,\n",
       "       0.23327197, 0.42350645, 0.89504506, 0.74794811, 0.05418089,\n",
       "       0.86509762, 0.49799347, 0.48607746, 0.1128029 , 0.8745799 ,\n",
       "       0.19394832, 0.60912021, 0.0847339 , 0.92210434, 0.44204414,\n",
       "       0.93717886, 0.93031882, 0.00331468, 0.63836879, 0.26323133,\n",
       "       0.84112755, 0.56042162, 0.24560565, 0.46810853, 0.88552929,\n",
       "       0.29983346, 0.46024749, 0.30393872, 0.33424196, 0.73945245,\n",
       "       0.32219317, 0.37395077, 0.90579177, 0.6568093 , 0.8708069 ,\n",
       "       0.47286184, 0.57208717, 0.97107309, 0.6866082 , 0.83841571,\n",
       "       0.18906748, 0.65314396, 0.16107378, 0.74270006, 0.68379287,\n",
       "       0.50703681, 0.94530151, 0.10157213, 0.69315453, 0.66067261,\n",
       "       0.97508208, 0.94073429, 0.02833187, 0.25309668, 0.04406328,\n",
       "       0.55189573, 0.47234868, 0.76259639, 0.49508047, 0.60346375,\n",
       "       0.17250049, 0.77273956, 0.99309846, 0.2092285 , 0.63186429,\n",
       "       0.31952291, 0.28290035, 0.51077028, 0.23196207, 0.35110161,\n",
       "       0.56657755, 0.72887243, 0.16406527, 0.03573115, 0.57620804,\n",
       "       0.57345581, 0.63823956, 0.2725797 , 0.63266483, 0.31347347,\n",
       "       0.48868809, 0.87287555, 0.98993536, 0.3640647 , 0.04711485,\n",
       "       0.13244734, 0.01812696, 0.47937526, 0.58802252, 0.83166677,\n",
       "       0.26517403, 0.22694826, 0.4204152 , 0.63752363, 0.21030015,\n",
       "       0.78423442, 0.46573262, 0.47950017, 0.26881012, 0.81417678,\n",
       "       0.21952377, 0.21976121, 0.3379299 , 0.17191151, 0.32252045,\n",
       "       0.46899633, 0.82375584, 0.60713767, 0.17205008, 0.51565537,\n",
       "       0.46658603, 0.03042437, 0.94821261, 0.86460136, 0.65545382,\n",
       "       0.17902747, 0.68516399, 0.47546948, 0.21184241, 0.04137639,\n",
       "       0.38629362, 0.45297574, 0.48311326, 0.73301265, 0.54743064,\n",
       "       0.0610545 , 0.06531262, 0.94292377, 0.16291869, 0.19228157,\n",
       "       0.25991155, 0.40427446, 0.25137889, 0.58322105, 0.72112788,\n",
       "       0.38073789, 0.32531832, 0.27144916, 0.06147468, 0.21603214,\n",
       "       0.18885599, 0.84199379, 0.39379095, 0.52896891, 0.91407138,\n",
       "       0.30340234, 0.99933364, 0.81195006, 0.44126773, 0.19928335,\n",
       "       0.6284967 , 0.4430891 , 0.64258854, 0.3022894 , 0.11812661,\n",
       "       0.33069729, 0.22557505, 0.05121921, 0.04885511, 0.29827029,\n",
       "       0.36625502, 0.66967839, 0.43273846, 0.52728982, 0.26127952,\n",
       "       0.85943584, 0.34036423, 0.16713703, 0.50901372, 0.86180019,\n",
       "       0.33799052, 0.85687521, 0.96036256, 0.94498548, 0.90036458,\n",
       "       0.0281386 , 0.37901281, 0.39257384, 0.43864385, 0.54005963,\n",
       "       0.38127029, 0.71065025, 0.61147563, 0.43365877, 0.61247087,\n",
       "       0.22922547, 0.02754727, 0.90081926, 0.36816394, 0.06364901,\n",
       "       0.71750255, 0.86087433, 0.42618333, 0.11839505, 0.14125731,\n",
       "       0.94558294, 0.45150521, 0.34764157, 0.10564811, 0.39014144,\n",
       "       0.95159987, 0.90839697, 0.93388288, 0.05432862, 0.9590122 ,\n",
       "       0.42745481, 0.04469852, 0.49933884, 0.02357123, 0.90165535,\n",
       "       0.24774979, 0.73601793, 0.71242014, 0.81263781, 0.56660232,\n",
       "       0.83925859, 0.73631914, 0.84404521, 0.18291596, 0.3929222 ,\n",
       "       0.84442342, 0.70440936, 0.31532684, 0.64452102, 0.46826492,\n",
       "       0.31581571, 0.72999435, 0.36157268, 0.71841231, 0.31847589,\n",
       "       0.6001877 , 0.73811184, 0.92386465, 0.7729528 , 0.45354113,\n",
       "       0.53496511, 0.9768886 , 0.96243762, 0.09073785, 0.00264348,\n",
       "       0.1010415 , 0.9885152 , 0.53262995, 0.78283922, 0.28448953,\n",
       "       0.54359113, 0.45699403, 0.45634439, 0.28312118, 0.75450917,\n",
       "       0.15097155, 0.65321199, 0.7651778 , 0.73485332, 0.36678006,\n",
       "       0.59052613, 0.54201371, 0.67283465, 0.51951997, 0.43242999,\n",
       "       0.26071541, 0.60954102, 0.26691168, 0.29253652, 0.01691536,\n",
       "       0.81351341, 0.55861182, 0.5448781 , 0.83778101, 0.71172216,\n",
       "       0.04936865, 0.48654437, 0.34142338, 0.65947422, 0.54662906])"
      ]
     },
     "execution_count": 81,
     "metadata": {},
     "output_type": "execute_result"
    }
   ],
   "source": [
    "d"
   ]
  },
  {
   "cell_type": "code",
   "execution_count": 83,
   "metadata": {},
   "outputs": [
    {
     "data": {
      "text/plain": [
       "<function matplotlib.pyplot.show(*args, **kw)>"
      ]
     },
     "execution_count": 83,
     "metadata": {},
     "output_type": "execute_result"
    },
    {
     "data": {
      "image/png": "[encoded data removed]",
      "text/plain": [
       "<Figure size 432x288 with 1 Axes>"
      ]
     },
     "metadata": {
      "needs_background": "light"
     },
     "output_type": "display_data"
    }
   ],
   "source": [
    "plt.hist(d)\n",
    "plt.show"
   ]
  },
  {
   "cell_type": "code",
   "execution_count": 90,
   "metadata": {},
   "outputs": [
    {
     "data": {
      "image/png": "[encoded data removed]",
      "text/plain": [
       "<Figure size 432x288 with 1 Axes>"
      ]
     },
     "metadata": {
      "needs_background": "light"
     },
     "output_type": "display_data"
    }
   ],
   "source": [
    "plt.hist(d,edgecolor = \"black\")\n",
    "plt.show()"
   ]
  },
  {
   "cell_type": "code",
   "execution_count": null,
   "metadata": {},
   "outputs": [],
   "source": []
  },
  {
   "cell_type": "code",
   "execution_count": null,
   "metadata": {},
   "outputs": [],
   "source": []
  },
  {
   "cell_type": "code",
   "execution_count": null,
   "metadata": {},
   "outputs": [],
   "source": []
  }
 ],
 "metadata": {
  "kernelspec": {
   "display_name": "Python 3",
   "language": "python",
   "name": "python3"
  },
  "language_info": {
   "codemirror_mode": {
    "name": "ipython",
    "version": 3
   },
   "file_extension": ".py",
   "mimetype": "text/x-python",
   "name": "python",
   "nbconvert_exporter": "python",
   "pygments_lexer": "ipython3",
   "version": "3.7.3"
  }
 },
 "nbformat": 4,
 "nbformat_minor": 2
}
