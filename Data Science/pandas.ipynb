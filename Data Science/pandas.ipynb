{
 "cells": [
  {
   "cell_type": "code",
   "execution_count": 47,
   "metadata": {},
   "outputs": [],
   "source": [
    "import pandas as pd\n",
    "import numpy as np\n",
    "import matplotlib.pyplot as plt\n",
    "%matplotlib inline"
   ]
  },
  {
   "cell_type": "code",
   "execution_count": 48,
   "metadata": {},
   "outputs": [
    {
     "data": {
      "text/plain": [
       "0    1\n",
       "1    2\n",
       "2    3\n",
       "3    4\n",
       "4    5\n",
       "5    6\n",
       "6    7\n",
       "7    8\n",
       "8    9\n",
       "dtype: int64"
      ]
     },
     "execution_count": 48,
     "metadata": {},
     "output_type": "execute_result"
    }
   ],
   "source": [
    "s = pd.Series([1,2,3,4,5,6,7,8,9])\n",
    "s"
   ]
  },
  {
   "cell_type": "code",
   "execution_count": 49,
   "metadata": {},
   "outputs": [],
   "source": [
    "s = pd.Series(np.random.random(10))"
   ]
  },
  {
   "cell_type": "code",
   "execution_count": 50,
   "metadata": {},
   "outputs": [
    {
     "data": {
      "text/plain": [
       "0    0.451179\n",
       "1    0.561773\n",
       "2    0.008908\n",
       "3    0.083232\n",
       "4    0.314111\n",
       "5    0.369227\n",
       "6    0.796156\n",
       "7    0.698400\n",
       "8    0.831550\n",
       "9    0.832326\n",
       "dtype: float64"
      ]
     },
     "execution_count": 50,
     "metadata": {},
     "output_type": "execute_result"
    }
   ],
   "source": [
    "s"
   ]
  },
  {
   "cell_type": "code",
   "execution_count": 51,
   "metadata": {},
   "outputs": [
    {
     "data": {
      "text/plain": [
       "array([10, 11, 12, 13, 14, 15, 16, 17, 18, 19], dtype=int64)"
      ]
     },
     "execution_count": 51,
     "metadata": {},
     "output_type": "execute_result"
    }
   ],
   "source": [
    "s = pd.Series(np.random.randint(10,20,100))\n",
    "s.sort_values().unique()"
   ]
  },
  {
   "cell_type": "code",
   "execution_count": 52,
   "metadata": {},
   "outputs": [
    {
     "data": {
      "text/plain": [
       "1    0.901253\n",
       "4    0.452921\n",
       "7    0.859161\n",
       "dtype: float64"
      ]
     },
     "execution_count": 52,
     "metadata": {},
     "output_type": "execute_result"
    }
   ],
   "source": [
    "s = pd.Series(np.random.sample(10))\n",
    "s[1:11:3]"
   ]
  },
  {
   "cell_type": "code",
   "execution_count": 53,
   "metadata": {},
   "outputs": [
    {
     "data": {
      "text/plain": [
       "1    0.901253\n",
       "4    0.452921\n",
       "7    0.859161\n",
       "dtype: float64"
      ]
     },
     "execution_count": 53,
     "metadata": {},
     "output_type": "execute_result"
    }
   ],
   "source": [
    "s[1::3]"
   ]
  },
  {
   "cell_type": "code",
   "execution_count": 54,
   "metadata": {},
   "outputs": [
    {
     "data": {
      "text/plain": [
       "0.9163465732133632"
      ]
     },
     "execution_count": 54,
     "metadata": {},
     "output_type": "execute_result"
    }
   ],
   "source": [
    "s.max()"
   ]
  },
  {
   "cell_type": "code",
   "execution_count": 55,
   "metadata": {},
   "outputs": [
    {
     "data": {
      "text/plain": [
       "0.4134301238486444"
      ]
     },
     "execution_count": 55,
     "metadata": {},
     "output_type": "execute_result"
    }
   ],
   "source": [
    "s.pop(0)"
   ]
  },
  {
   "cell_type": "code",
   "execution_count": 56,
   "metadata": {},
   "outputs": [
    {
     "data": {
      "text/plain": [
       "1    0.901253\n",
       "2    0.040551\n",
       "3    0.250031\n",
       "4    0.452921\n",
       "5    0.307038\n",
       "6    0.916347\n",
       "7    0.859161\n",
       "8    0.401200\n",
       "9    0.761746\n",
       "dtype: float64"
      ]
     },
     "execution_count": 56,
     "metadata": {},
     "output_type": "execute_result"
    }
   ],
   "source": [
    "s[[2,4,6,7]]\n",
    "s"
   ]
  },
  {
   "cell_type": "code",
   "execution_count": 57,
   "metadata": {},
   "outputs": [],
   "source": [
    "s = pd.Series(np.random.random(50))"
   ]
  },
  {
   "cell_type": "code",
   "execution_count": 58,
   "metadata": {},
   "outputs": [
    {
     "data": {
      "text/plain": [
       "0     0.620316\n",
       "1     0.016991\n",
       "2     0.044291\n",
       "3     0.087129\n",
       "4     0.941109\n",
       "5     0.986634\n",
       "6     0.473459\n",
       "7     0.675468\n",
       "8     0.652671\n",
       "9     0.278999\n",
       "10    0.813802\n",
       "11    0.735086\n",
       "12    0.488398\n",
       "13    0.515782\n",
       "14    0.790589\n",
       "15    0.059934\n",
       "16    0.390710\n",
       "17    0.303615\n",
       "18    0.814393\n",
       "19    0.481991\n",
       "20    0.371184\n",
       "21    0.160631\n",
       "22    0.695929\n",
       "23    0.345776\n",
       "24    0.598958\n",
       "25    0.006835\n",
       "26    0.381314\n",
       "27    0.200546\n",
       "28    0.401747\n",
       "29    0.610385\n",
       "30    0.165698\n",
       "31    0.491307\n",
       "32    0.217612\n",
       "33    0.074615\n",
       "34    0.026653\n",
       "35    0.246011\n",
       "36    0.653345\n",
       "37    0.745337\n",
       "38    0.896417\n",
       "39    0.811316\n",
       "40    0.463747\n",
       "41    0.183430\n",
       "42    0.893892\n",
       "43    0.378018\n",
       "44    0.934983\n",
       "45    0.531702\n",
       "46    0.469774\n",
       "47    0.805675\n",
       "48    0.122799\n",
       "49    0.731138\n",
       "dtype: float64"
      ]
     },
     "execution_count": 58,
     "metadata": {},
     "output_type": "execute_result"
    }
   ],
   "source": [
    "s\n"
   ]
  },
  {
   "cell_type": "code",
   "execution_count": 59,
   "metadata": {},
   "outputs": [],
   "source": [
    "import seaborn as sns\n",
    "data = sns.load_dataset('tips')"
   ]
  },
  {
   "cell_type": "code",
   "execution_count": 60,
   "metadata": {},
   "outputs": [
    {
     "data": {
      "image/png": "[encoded data removed]",
      "text/plain": [
       "<Figure size 432x288 with 1 Axes>"
      ]
     },
     "metadata": {
      "needs_background": "light"
     },
     "output_type": "display_data"
    }
   ],
   "source": [
    "f= sns.scatterplot(x=\"tip\",y=\"total_bill\",data=data,hue=\"sex\",size=\"smoker\")\n",
    "plt.show()"
   ]
  },
  {
   "cell_type": "code",
   "execution_count": null,
   "metadata": {},
   "outputs": [],
   "source": []
  }
 ],
 "metadata": {
  "kernelspec": {
   "display_name": "Python 3",
   "language": "python",
   "name": "python3"
  },
  "language_info": {
   "codemirror_mode": {
    "name": "ipython",
    "version": 3
   },
   "file_extension": ".py",
   "mimetype": "text/x-python",
   "name": "python",
   "nbconvert_exporter": "python",
   "pygments_lexer": "ipython3",
   "version": "3.7.3"
  }
 },
 "nbformat": 4,
 "nbformat_minor": 2
}
