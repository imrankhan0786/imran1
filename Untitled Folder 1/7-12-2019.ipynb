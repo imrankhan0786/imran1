{
 "cells": [
  {
   "cell_type": "code",
   "execution_count": 1,
   "metadata": {},
   "outputs": [
    {
     "data": {
      "text/plain": [
       "'0b1100'"
      ]
     },
     "execution_count": 1,
     "metadata": {},
     "output_type": "execute_result"
    }
   ],
   "source": []
  },
  {
   "cell_type": "code",
   "execution_count": 4,
   "metadata": {},
   "outputs": [],
   "source": [
    "def fibonacci(n):\n",
    "    if n == 1:\n",
    "        return 1\n",
    "    elif n == 2:\n",
    "        return 1\n",
    "    elif n > 2:\n",
    "        return fibonacci(n-1)  +  fibonacci(n-2)\n",
    "    for n in range (1,101):\n",
    "        print(n , \":\" , fibonacci(n))\n",
    "    \n",
    "    "
   ]
  },
  {
   "cell_type": "code",
   "execution_count": null,
   "metadata": {},
   "outputs": [],
   "source": []
  },
  {
   "cell_type": "code",
   "execution_count": 5,
   "metadata": {},
   "outputs": [],
   "source": [
    "x = fibonacci(10)"
   ]
  },
  {
   "cell_type": "code",
   "execution_count": 6,
   "metadata": {},
   "outputs": [
    {
     "name": "stdout",
     "output_type": "stream",
     "text": [
      "55\n"
     ]
    }
   ],
   "source": [
    "print(x)"
   ]
  },
  {
   "cell_type": "code",
   "execution_count": null,
   "metadata": {},
   "outputs": [],
   "source": [
    "import tkinter as tk\n",
    "\n",
    "\n",
    "root = tk.Tk()\n",
    "\n",
    "main_frame = tk.Frame(root)\n",
    "\n",
    "label1 = tk.Label(main_frame,text=\"Hello World Welcome to Tkinter\",font=(\"Times Roman\",28,\"bold\") )\n",
    "\n",
    "def do_something():\n",
    "    r_new = tk.Tk()\n",
    "    f = tk.Frame(r_new)\n",
    "    eq = var.get()\n",
    "    result = eval(eq)\n",
    "    l1 = tk.Label(f,text=f\"Result = {result}\",font=(\"Times Roman\",28,\"bold\") )\n",
    "    l1.pack()\n",
    "    f.pack()\n",
    "    r_new.mainloop()\n",
    "\n",
    "var  = tk.StringVar()\n",
    "entry1 = tk.Entry(main_frame,textvariable=var,\n",
    "        fg=\"blue\",font=(\"Times Roman\",28,\"bold\"))\n",
    "\n",
    "button1 = tk.Button(main_frame,text=\"Click me\", bg=\"black\",fg=\"white\",font=(\"Times Roman\",28,\"bold\"),command=do_something)\n",
    "\n",
    "\n",
    "label1.pack()\n",
    "\n",
    "entry1.pack()\n",
    "main_frame.pack()\n",
    "button1.pack()\n",
    "\n",
    "root.wm_minsize(500,500)\n",
    "root.wm_title(\"My Application\")\n",
    "\n",
    "root.mainloop()\n"
   ]
  },
  {
   "cell_type": "code",
   "execution_count": null,
   "metadata": {},
   "outputs": [],
   "source": []
  },
  {
   "cell_type": "code",
   "execution_count": null,
   "metadata": {},
   "outputs": [],
   "source": []
  }
 ],
 "metadata": {
  "kernelspec": {
   "display_name": "Python 3",
   "language": "python",
   "name": "python3"
  },
  "language_info": {
   "codemirror_mode": {
    "name": "ipython",
    "version": 3
   },
   "file_extension": ".py",
   "mimetype": "text/x-python",
   "name": "python",
   "nbconvert_exporter": "python",
   "pygments_lexer": "ipython3",
   "version": "3.7.3"
  }
 },
 "nbformat": 4,
 "nbformat_minor": 2
}
