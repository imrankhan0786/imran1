{
 "cells": [
  {
   "cell_type": "code",
   "execution_count": 1,
   "metadata": {},
   "outputs": [],
   "source": [
    "class UnderFlowError(MemoryError):\n",
    "    def __init__(self,arg):\n",
    "        super().__init__(arg)\n",
    "\n",
    "# last in first out\n",
    "class  : \n",
    "    \"\"\"Stack work on LIFO property\n",
    "    at push operation add item at the end\n",
    "    at pop operation remove item from the end\n",
    "    \"\"\"\n",
    "    def __init__(self,*args):\n",
    "        self.data = list(args)\n",
    "    def push(self,item):\n",
    "        \"\"\"push(item) --> add item at the end\"\"\"\n",
    "        self.data.append(item)\n",
    "    def push_many(self,*items):\n",
    "        self.data.extend(items)\n",
    "    def pop(self):\n",
    "        if len(self.data) : \n",
    "            return self.data.pop()\n",
    "        else : \n",
    "            raise UnderFlowError(\"Stack is empty so you Cann't delete any item\")\n",
    "    def __repr__(self):\n",
    "        n = len(self.data)\n",
    "        r = (\"{}, \"*n)[:-2]\n",
    "        return f\"Stack(\"+r.format(*self.data)+\")\""
   ]
  },
  {
   "cell_type": "code",
   "execution_count": 2,
   "metadata": {},
   "outputs": [],
   "source": [
    "s1 = Queue()"
   ]
  },
  {
   "cell_type": "code",
   "execution_count": 3,
   "metadata": {},
   "outputs": [],
   "source": [
    "s1.push_many(1,2,3,5,6,7,8,8,9,90,23,44,56,67,78,90)"
   ]
  },
  {
   "cell_type": "code",
   "execution_count": 4,
   "metadata": {},
   "outputs": [
    {
     "name": "stdout",
     "output_type": "stream",
     "text": [
      "Stack(1, 2, 3, 5, 6, 7, 8, 8, 9, 90, 23, 44, 56, 67, 78, 90)\n"
     ]
    }
   ],
   "source": [
    "print(s1)"
   ]
  },
  {
   "cell_type": "code",
   "execution_count": 5,
   "metadata": {},
   "outputs": [
    {
     "data": {
      "text/plain": [
       "90"
      ]
     },
     "execution_count": 5,
     "metadata": {},
     "output_type": "execute_result"
    }
   ],
   "source": [
    "s1.pop()"
   ]
  },
  {
   "cell_type": "code",
   "execution_count": 6,
   "metadata": {},
   "outputs": [
    {
     "data": {
      "text/plain": [
       "78"
      ]
     },
     "execution_count": 6,
     "metadata": {},
     "output_type": "execute_result"
    }
   ],
   "source": [
    "s1.pop()"
   ]
  },
  {
   "cell_type": "code",
   "execution_count": null,
   "metadata": {},
   "outputs": [],
   "source": []
  },
  {
   "cell_type": "code",
   "execution_count": null,
   "metadata": {},
   "outputs": [],
   "source": []
  },
  {
   "cell_type": "code",
   "execution_count": null,
   "metadata": {},
   "outputs": [],
   "source": []
  }
 ],
 "metadata": {
  "kernelspec": {
   "display_name": "Python 3",
   "language": "python",
   "name": "python3"
  },
  "language_info": {
   "codemirror_mode": {
    "name": "ipython",
    "version": 3
   },
   "file_extension": ".py",
   "mimetype": "text/x-python",
   "name": "python",
   "nbconvert_exporter": "python",
   "pygments_lexer": "ipython3",
   "version": "3.7.3"
  }
 },
 "nbformat": 4,
 "nbformat_minor": 2
}
