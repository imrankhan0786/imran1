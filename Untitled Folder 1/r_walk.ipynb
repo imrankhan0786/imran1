{
 "cells": [
  {
   "cell_type": "code",
   "execution_count": 5,
   "metadata": {},
   "outputs": [
    {
     "name": "stdout",
     "output_type": "stream",
     "text": [
      "(0, 2)\n",
      "2\n",
      "(0, 5)\n",
      "5\n",
      "(0, 3)\n",
      "3\n",
      "(0, 1)\n",
      "1\n",
      "(0, 5)\n",
      "5\n"
     ]
    }
   ],
   "source": [
    "import random\n",
    "def r_walk(n):\n",
    "    x,y=0,0\n",
    "    for i in range(n):\n",
    "        s=random.choice(['N','S','E','W'])\n",
    "        #print(s)\n",
    "        if s=='N':\n",
    "            y=random.randint(1,5)\n",
    "            #print(y)\n",
    "            y+=0\n",
    "        elif s=='S':\n",
    "            y=random.randint(1,5)\n",
    "            y-=0\n",
    "        elif s=='E':\n",
    "            y=random.randint(1,5)\n",
    "            x+=0\n",
    "        else:\n",
    "            y=random.randint(1,5)\n",
    "            x-=0\n",
    "    return (x,y)\n",
    "for i in range(5):\n",
    "    walk=r_walk(5)\n",
    "    print(walk)\n",
    "    print(abs(walk[0]+abs(walk[1])))\n"
   ]
  },
  {
   "cell_type": "code",
   "execution_count": 3,
   "metadata": {},
   "outputs": [
    {
     "ename": "NameError",
     "evalue": "name 's' is not defined",
     "output_type": "error",
     "traceback": [
      "\u001b[1;31m---------------------------------------------------------------------------\u001b[0m",
      "\u001b[1;31mNameError\u001b[0m                                 Traceback (most recent call last)",
      "\u001b[1;32m<ipython-input-3-ded5ba42480f>\u001b[0m in \u001b[0;36m<module>\u001b[1;34m\u001b[0m\n\u001b[1;32m----> 1\u001b[1;33m \u001b[0ms\u001b[0m\u001b[1;33m\u001b[0m\u001b[1;33m\u001b[0m\u001b[0m\n\u001b[0m",
      "\u001b[1;31mNameError\u001b[0m: name 's' is not defined"
     ]
    }
   ],
   "source": [
    "s"
   ]
  },
  {
   "cell_type": "code",
   "execution_count": null,
   "metadata": {},
   "outputs": [],
   "source": []
  }
 ],
 "metadata": {
  "kernelspec": {
   "display_name": "Python 3",
   "language": "python",
   "name": "python3"
  },
  "language_info": {
   "codemirror_mode": {
    "name": "ipython",
    "version": 3
   },
   "file_extension": ".py",
   "mimetype": "text/x-python",
   "name": "python",
   "nbconvert_exporter": "python",
   "pygments_lexer": "ipython3",
   "version": "3.7.3"
  }
 },
 "nbformat": 4,
 "nbformat_minor": 2
}
