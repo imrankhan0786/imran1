{
 "cells": [
  {
   "cell_type": "code",
   "execution_count": 1,
   "metadata": {},
   "outputs": [
    {
     "data": {
      "text/plain": [
       "'C:\\\\Users\\\\Imran Khan\\\\Desktop\\\\imran1\\\\bank_app'"
      ]
     },
     "execution_count": 1,
     "metadata": {},
     "output_type": "execute_result"
    }
   ],
   "source": [
    "pwd\n"
   ]
  },
  {
   "cell_type": "code",
   "execution_count": null,
   "metadata": {},
   "outputs": [],
   "source": [
    "import shelve"
   ]
  },
  {
   "cell_type": "code",
   "execution_count": 2,
   "metadata": {},
   "outputs": [],
   "source": [
    "data = shelve.open(\"db/bank.db\")"
   ]
  },
  {
   "cell_type": "code",
   "execution_count": 3,
   "metadata": {},
   "outputs": [],
   "source": [
    "import shelve\n",
    "acc1 = { 'name':'ram','bal':20000,'password':'&123'}\n",
    "acc2 = { 'name':'shyam','bal':15000,'password':'@hello'}\n",
    "acc3 = { 'name':'ghyanshaym','bal':1000,'password':'bye@'}\n",
    "acc4 = { 'name':'radheshyam','bal':12000,'password':'redhat'}\n",
    "\n",
    "db = shelve.open('db/bank.db',writeback=True)\n",
    "db['1001'] = acc1\n",
    "db['1002'] = acc2\n",
    "db['1003'] = acc3\n",
    "db['1004'] = acc4 \n",
    "\n",
    "db.close()"
   ]
  },
  {
   "cell_type": "code",
   "execution_count": 4,
   "metadata": {},
   "outputs": [],
   "source": [
    "from getpass import getpass\n",
    "def main_menu():\n",
    "    s = \"\"\"1. Login\\n2.Signup\\n3.Exit\"\"\"\n",
    "    print(s)\n",
    "    ch = int(input(\"Enter your Choice : \"))\n",
    "    if ch == 1 :\n",
    "        acc_no = input(\"Enter your acc number : \").strip()\n",
    "        password = getpass(\"Enter your password : \")\n",
    "        if login(acc_no,password) :\n",
    "            menu(acc_no)\n",
    "        else : \n",
    "            main_menu()\n",
    "    if ch==2:\n",
    "        pass\n",
    "    if ch==3:\n",
    "        pass\n",
    "    else:\n",
    "        print(\"invalid choice\")\n",
    "def menu(acc_no):\n",
    "    s = \"\"\"1. Credit\\n2.Debit\\n3.Check Balance\\n4.Update Password\\n5.exit\"\"\"\n",
    "    print(s)\n",
    "    ch = int(input(\"Enter your choice : \"))\n",
    "    if ch==1:\n",
    "        credit(acc_no)\n",
    "    if ch==2: \n",
    "        debit(acc_no)\n",
    "    if ch==3:\n",
    "        check_bal(acc_no)\n",
    "    if ch==4 : \n",
    "        update_password(acc_no)\n",
    "    print(\"you are at menu of logged in function\")\n",
    "    if ch==5:\n",
    "        exit()\n",
    "    else:\n",
    "        print(\"invalid password\")\n",
    "        menu(acc_no)"
   ]
  },
  {
   "cell_type": "code",
   "execution_count": 5,
   "metadata": {},
   "outputs": [],
   "source": [
    "def login(acc_no,password):\n",
    "    db = shelve.open('./db/bank.db',writeback=True)\n",
    "    data = db.get(acc_no,False)\n",
    "    if data : \n",
    "        if data.get('password') == password :\n",
    "            print(\"Login Sucessfull\")\n",
    "            return True \n",
    "        else : \n",
    "            print(\"Invalid Password\")\n",
    "            print(\"Try Again\")\n",
    "            return False \n",
    "    else : \n",
    "        print(\"Invalid Account Number\")\n",
    "        print(\"If you don't have any account please signup\")\n",
    "        return False"
   ]
  },
  {
   "cell_type": "code",
   "execution_count": 6,
   "metadata": {},
   "outputs": [],
   "source": [
    "def credit(acc_no):\n",
    "    db = shelve.open('./db/bank.db',writeback=True)\n",
    "    old_bal=db[acc_no]['bal']\n",
    "    amount=int(input(\"enter money you want to credit\"))\n",
    "    print('old balance is:',old_bal)\n",
    "    new_bal=old_bal+amount\n",
    "    db[acc_no]['bal']=new_bal\n",
    "    print(\"new balance is:\", new_bal)\n",
    "    #db = shelve.open('./db/bank.db','w')\n",
    "    db.close()\n",
    "    menu(acc_no)  "
   ]
  },
  {
   "cell_type": "code",
   "execution_count": 7,
   "metadata": {},
   "outputs": [],
   "source": [
    "def debit(acc_no):\n",
    "    db = shelve.open('./db/bank.db',writeback=True)\n",
    "    old_bal=db[acc_no]['bal']\n",
    "    amount=int(input(\"enter money you want to debit\"))\n",
    "    if old_bal>amount:\n",
    "        new_bal=old_bal-amount\n",
    "        db[acc_no]['bal']=new_bal\n",
    "        print(\"updated balance is->\",new_bal)\n",
    "        db.close()\n",
    "        menu(acc_no)\n",
    "    else:\n",
    "        print(\"insufficient balance in your account\")\n",
    "    "
   ]
  },
  {
   "cell_type": "code",
   "execution_count": 8,
   "metadata": {},
   "outputs": [],
   "source": [
    "def check_bal(acc_no):\n",
    "    db = shelve.open('./db/bank.db',writeback=True)\n",
    "    curr_bal=db[acc_no]['bal']\n",
    "    print(\"your current balance is\",curr_bal)\n",
    "    db.close()\n",
    "    menu(acc_no)\n",
    "    \n",
    "    "
   ]
  },
  {
   "cell_type": "code",
   "execution_count": 9,
   "metadata": {},
   "outputs": [],
   "source": [
    "def update_password(acc_no):\n",
    "    p1 = getpass(\"Enter password : \")\n",
    "    p2 = getpass(\"Verify password :\")\n",
    "    if p1 == p2 : \n",
    "        db = shelve.open('db/bank.db',writeback=True)\n",
    "        db[acc_no]['password'] = p1\n",
    "        print(\"password sucessfully updated\")\n",
    "        print(\"Please Login Again to verify \")\n",
    "        db.close()\n",
    "        main_menu()\n",
    "    else : \n",
    "        print(\"Password does not match \")\n",
    "        print(\"Try Again\")\n",
    "        update_password(acc_no)   "
   ]
  },
  {
   "cell_type": "code",
   "execution_count": 10,
   "metadata": {},
   "outputs": [],
   "source": [
    "def exit():\n",
    "    main_menu()"
   ]
  },
  {
   "cell_type": "code",
   "execution_count": 13,
   "metadata": {},
   "outputs": [
    {
     "name": "stdout",
     "output_type": "stream",
     "text": [
      "Login Sucessfull\n"
     ]
    },
    {
     "data": {
      "text/plain": [
       "True"
      ]
     },
     "execution_count": 13,
     "metadata": {},
     "output_type": "execute_result"
    }
   ],
   "source": [
    "login('1001','&123')"
   ]
  },
  {
   "cell_type": "code",
   "execution_count": 14,
   "metadata": {},
   "outputs": [
    {
     "name": "stdout",
     "output_type": "stream",
     "text": [
      "enter money you want to debit4990\n",
      "updated balance is-> 10010\n",
      "1. Credit\n",
      "2.Debit\n",
      "3.Check Balance\n",
      "4.Update Password\n",
      "5.exit\n",
      "Enter your choice : 4\n",
      "Enter password : ········\n",
      "Verify password :········\n",
      "password sucessfully updated\n",
      "Please Login Again to verify \n",
      "1. Login\n",
      "2.Signup\n",
      "3.Exit\n",
      "Enter your Choice : 2\n",
      "invalid choice\n",
      "you are at menu of logged in function\n",
      "invalid password\n",
      "1. Credit\n",
      "2.Debit\n",
      "3.Check Balance\n",
      "4.Update Password\n",
      "5.exit\n",
      "Enter your choice : 5\n",
      "you are at menu of logged in function\n",
      "1. Login\n",
      "2.Signup\n",
      "3.Exit\n",
      "Enter your Choice : 3\n"
     ]
    }
   ],
   "source": [
    "debit(\"1002\")"
   ]
  },
  {
   "cell_type": "code",
   "execution_count": null,
   "metadata": {},
   "outputs": [],
   "source": []
  }
 ],
 "metadata": {
  "kernelspec": {
   "display_name": "Python 3",
   "language": "python",
   "name": "python3"
  },
  "language_info": {
   "codemirror_mode": {
    "name": "ipython",
    "version": 3
   },
   "file_extension": ".py",
   "mimetype": "text/x-python",
   "name": "python",
   "nbconvert_exporter": "python",
   "pygments_lexer": "ipython3",
   "version": "3.7.3"
  }
 },
 "nbformat": 4,
 "nbformat_minor": 2
}
